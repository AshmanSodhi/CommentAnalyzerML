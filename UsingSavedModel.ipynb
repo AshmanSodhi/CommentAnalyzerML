{
 "cells": [
  {
   "cell_type": "code",
   "execution_count": 9,
   "id": "257b6ef3",
   "metadata": {},
   "outputs": [],
   "source": [
    "import os\n",
    "import pandas as pd\n",
    "import tensorflow as tf\n",
    "import numpy as np\n",
    "from tensorflow.keras.layers import TextVectorization"
   ]
  },
  {
   "cell_type": "code",
   "execution_count": 10,
   "id": "9d48722d",
   "metadata": {},
   "outputs": [],
   "source": [
    "df = pd.read_csv(os.path.join('data','train.csv','train.csv'))"
   ]
  },
  {
   "cell_type": "code",
   "execution_count": 12,
   "id": "b49f5686",
   "metadata": {},
   "outputs": [],
   "source": [
    "x = df['comment_text']\n",
    "max_words = 200000\n",
    "vectorizer = TextVectorization(max_tokens=max_words , output_sequence_length=1800 , output_mode=\"int\")\n",
    "vectorizer.adapt(x.values)"
   ]
  },
  {
   "cell_type": "code",
   "execution_count": 2,
   "id": "2f802f23",
   "metadata": {},
   "outputs": [],
   "source": [
    "loadmodel = tf.keras.models.load_model(\"comm_anat.h5\")"
   ]
  },
  {
   "cell_type": "code",
   "execution_count": 3,
   "id": "0705ad5e",
   "metadata": {},
   "outputs": [],
   "source": [
    "def check_comment(comment):\n",
    "    input_str = vectorizer(comment)\n",
    "    res = loadmodel.predict(np.expand_dims(input_str,0))\n",
    "    \n",
    "    text = ''\n",
    "    for idx , col in enumerate(df.columns[2:]):\n",
    "        text += '{} {}\\n'.format(col , res[0][idx]>0.5)\n",
    "\n",
    "    print(text)"
   ]
  },
  {
   "cell_type": "code",
   "execution_count": 13,
   "id": "7e5cf063",
   "metadata": {},
   "outputs": [
    {
     "name": "stdout",
     "output_type": "stream",
     "text": [
      "1/1 [==============================] - 2s 2s/step\n",
      "toxic False\n",
      "severe_toxic False\n",
      "obscene False\n",
      "threat False\n",
      "insult False\n",
      "identity_hate False\n",
      "\n"
     ]
    }
   ],
   "source": [
    "check_comment(\"Hi This is a test Comment\")"
   ]
  },
  {
   "cell_type": "code",
   "execution_count": 14,
   "id": "29ca8bca",
   "metadata": {},
   "outputs": [
    {
     "name": "stdout",
     "output_type": "stream",
     "text": [
      "1/1 [==============================] - 0s 141ms/step\n",
      "toxic True\n",
      "severe_toxic False\n",
      "obscene False\n",
      "threat True\n",
      "insult False\n",
      "identity_hate False\n",
      "\n"
     ]
    }
   ],
   "source": [
    "check_comment(\"I am going to Kill you\")"
   ]
  },
  {
   "cell_type": "code",
   "execution_count": 15,
   "id": "7a8a08f9",
   "metadata": {},
   "outputs": [
    {
     "name": "stdout",
     "output_type": "stream",
     "text": [
      "1/1 [==============================] - 0s 143ms/step\n",
      "toxic True\n",
      "severe_toxic True\n",
      "obscene True\n",
      "threat False\n",
      "insult True\n",
      "identity_hate False\n",
      "\n"
     ]
    }
   ],
   "source": [
    "check_comment(\"Stupid peace of shit stop deleting my stuff , go die and fall in a hole go to hell!\")"
   ]
  },
  {
   "cell_type": "code",
   "execution_count": null,
   "id": "721e15a5",
   "metadata": {},
   "outputs": [],
   "source": []
  }
 ],
 "metadata": {
  "kernelspec": {
   "display_name": "Python 3 (ipykernel)",
   "language": "python",
   "name": "python3"
  },
  "language_info": {
   "codemirror_mode": {
    "name": "ipython",
    "version": 3
   },
   "file_extension": ".py",
   "mimetype": "text/x-python",
   "name": "python",
   "nbconvert_exporter": "python",
   "pygments_lexer": "ipython3",
   "version": "3.11.3"
  }
 },
 "nbformat": 4,
 "nbformat_minor": 5
}
